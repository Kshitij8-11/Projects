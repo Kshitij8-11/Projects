{
 "cells": [
  {
   "cell_type": "markdown",
   "id": "4f9019d1",
   "metadata": {},
   "source": [
    "### Importing Libraries"
   ]
  },
  {
   "cell_type": "code",
   "execution_count": 1,
   "id": "8261c118",
   "metadata": {},
   "outputs": [],
   "source": [
    "import tweepy\n",
    "import pandas as pd\n",
    "import numpy as np\n",
    "import matplotlib.pyplot as plt\n",
    "import re\n",
    "from wordcloud import WordCloud\n",
    "from textblob import TextBlob"
   ]
  },
  {
   "cell_type": "code",
   "execution_count": 2,
   "id": "a35fa0a6",
   "metadata": {},
   "outputs": [],
   "source": [
    "import warnings as wg\n",
    "wg.filterwarnings(\"ignore\")"
   ]
  },
  {
   "cell_type": "code",
   "execution_count": 3,
   "id": "46d8d24d",
   "metadata": {},
   "outputs": [],
   "source": [
    "%run ./key.ipynb"
   ]
  },
  {
   "cell_type": "markdown",
   "id": "52a60beb",
   "metadata": {},
   "source": [
    "### Connecting to jump server of twitter"
   ]
  },
  {
   "cell_type": "code",
   "execution_count": 4,
   "id": "f0682c6a",
   "metadata": {},
   "outputs": [],
   "source": [
    "auth = tweepy.OAuthHandler(consumer_key, consumer_key_sec)"
   ]
  },
  {
   "cell_type": "markdown",
   "id": "20297bc2",
   "metadata": {},
   "source": [
    "### Connecting jump server to web server of twitter"
   ]
  },
  {
   "cell_type": "code",
   "execution_count": 5,
   "id": "d35fa02b",
   "metadata": {},
   "outputs": [],
   "source": [
    "auth.set_access_token(access_token,access_token_sec)"
   ]
  },
  {
   "cell_type": "markdown",
   "id": "4bd3fd06",
   "metadata": {},
   "source": [
    "### Connecting to API Strong Server of Twitter"
   ]
  },
  {
   "cell_type": "code",
   "execution_count": 6,
   "id": "a37c3e63",
   "metadata": {},
   "outputs": [],
   "source": [
    "api = tweepy.API(auth)"
   ]
  },
  {
   "cell_type": "code",
   "execution_count": 7,
   "id": "07b40e4a",
   "metadata": {},
   "outputs": [
    {
     "name": "stdout",
     "output_type": "stream",
     "text": [
      "Keyword you need analysis on : nifty50\n"
     ]
    }
   ],
   "source": [
    "keyword = input(\"Keyword you need analysis on : \")"
   ]
  },
  {
   "cell_type": "code",
   "execution_count": 8,
   "id": "3767055d",
   "metadata": {},
   "outputs": [],
   "source": [
    "no_of_tweets = 1000\n",
    "tweets = []\n",
    "likes = []\n",
    "time = []\n",
    "for i in tweepy.Cursor( api.search_tweets,q=keyword, tweet_mode = \"extended\").items(no_of_tweets):\n",
    "    tweets.append(i.full_text)\n",
    "    likes.append(i.favorite_count)\n",
    "    time.append(i.created_at)"
   ]
  },
  {
   "cell_type": "code",
   "execution_count": 9,
   "id": "ebc515e6",
   "metadata": {
    "scrolled": true
   },
   "outputs": [
    {
     "data": {
      "text/html": [
       "<div>\n",
       "<style scoped>\n",
       "    .dataframe tbody tr th:only-of-type {\n",
       "        vertical-align: middle;\n",
       "    }\n",
       "\n",
       "    .dataframe tbody tr th {\n",
       "        vertical-align: top;\n",
       "    }\n",
       "\n",
       "    .dataframe thead th {\n",
       "        text-align: right;\n",
       "    }\n",
       "</style>\n",
       "<table border=\"1\" class=\"dataframe\">\n",
       "  <thead>\n",
       "    <tr style=\"text-align: right;\">\n",
       "      <th></th>\n",
       "      <th>tweets</th>\n",
       "      <th>likes</th>\n",
       "      <th>time</th>\n",
       "    </tr>\n",
       "  </thead>\n",
       "  <tbody>\n",
       "    <tr>\n",
       "      <th>0</th>\n",
       "      <td>#NIFTY50 \\nFor nifty and banknifty daily level...</td>\n",
       "      <td>0</td>\n",
       "      <td>2022-07-14 04:39:19+00:00</td>\n",
       "    </tr>\n",
       "    <tr>\n",
       "      <th>1</th>\n",
       "      <td>Tchinical Analisys Update #14Jul2022 08:56\\nSt...</td>\n",
       "      <td>0</td>\n",
       "      <td>2022-07-14 04:39:17+00:00</td>\n",
       "    </tr>\n",
       "    <tr>\n",
       "      <th>2</th>\n",
       "      <td>Tchinical Analisys Update #14Jul2022 08:56\\nSt...</td>\n",
       "      <td>0</td>\n",
       "      <td>2022-07-14 04:38:16+00:00</td>\n",
       "    </tr>\n",
       "    <tr>\n",
       "      <th>3</th>\n",
       "      <td>Tchinical Analisys Update #14Jul2022 08:56\\nSt...</td>\n",
       "      <td>0</td>\n",
       "      <td>2022-07-14 04:37:15+00:00</td>\n",
       "    </tr>\n",
       "    <tr>\n",
       "      <th>4</th>\n",
       "      <td>RT @EagleEyeReview: Tchinical Analisys Update ...</td>\n",
       "      <td>0</td>\n",
       "      <td>2022-07-14 04:36:55+00:00</td>\n",
       "    </tr>\n",
       "    <tr>\n",
       "      <th>...</th>\n",
       "      <td>...</td>\n",
       "      <td>...</td>\n",
       "      <td>...</td>\n",
       "    </tr>\n",
       "    <tr>\n",
       "      <th>995</th>\n",
       "      <td>US01Y US02Y #Yield inverted\\n\\n#MakeBubbleGrea...</td>\n",
       "      <td>0</td>\n",
       "      <td>2022-07-13 15:34:09+00:00</td>\n",
       "    </tr>\n",
       "    <tr>\n",
       "      <th>996</th>\n",
       "      <td>RT @KediaCapital: #MarketUpdate: 13th July 202...</td>\n",
       "      <td>0</td>\n",
       "      <td>2022-07-13 15:32:55+00:00</td>\n",
       "    </tr>\n",
       "    <tr>\n",
       "      <th>997</th>\n",
       "      <td>RT @iamamitvasu: @Himani_taneja13 Nasdaq green...</td>\n",
       "      <td>0</td>\n",
       "      <td>2022-07-13 15:28:54+00:00</td>\n",
       "    </tr>\n",
       "    <tr>\n",
       "      <th>998</th>\n",
       "      <td>RT @TheNxtBigTrader: #Day8 Takeaways👇\\n1.Adequ...</td>\n",
       "      <td>0</td>\n",
       "      <td>2022-07-13 15:26:10+00:00</td>\n",
       "    </tr>\n",
       "    <tr>\n",
       "      <th>999</th>\n",
       "      <td>Hourly Chart\\n\\n-Price has been forming LH LL ...</td>\n",
       "      <td>8</td>\n",
       "      <td>2022-07-13 15:25:31+00:00</td>\n",
       "    </tr>\n",
       "  </tbody>\n",
       "</table>\n",
       "<p>1000 rows × 3 columns</p>\n",
       "</div>"
      ],
      "text/plain": [
       "                                                tweets  likes  \\\n",
       "0    #NIFTY50 \\nFor nifty and banknifty daily level...      0   \n",
       "1    Tchinical Analisys Update #14Jul2022 08:56\\nSt...      0   \n",
       "2    Tchinical Analisys Update #14Jul2022 08:56\\nSt...      0   \n",
       "3    Tchinical Analisys Update #14Jul2022 08:56\\nSt...      0   \n",
       "4    RT @EagleEyeReview: Tchinical Analisys Update ...      0   \n",
       "..                                                 ...    ...   \n",
       "995  US01Y US02Y #Yield inverted\\n\\n#MakeBubbleGrea...      0   \n",
       "996  RT @KediaCapital: #MarketUpdate: 13th July 202...      0   \n",
       "997  RT @iamamitvasu: @Himani_taneja13 Nasdaq green...      0   \n",
       "998  RT @TheNxtBigTrader: #Day8 Takeaways👇\\n1.Adequ...      0   \n",
       "999  Hourly Chart\\n\\n-Price has been forming LH LL ...      8   \n",
       "\n",
       "                         time  \n",
       "0   2022-07-14 04:39:19+00:00  \n",
       "1   2022-07-14 04:39:17+00:00  \n",
       "2   2022-07-14 04:38:16+00:00  \n",
       "3   2022-07-14 04:37:15+00:00  \n",
       "4   2022-07-14 04:36:55+00:00  \n",
       "..                        ...  \n",
       "995 2022-07-13 15:34:09+00:00  \n",
       "996 2022-07-13 15:32:55+00:00  \n",
       "997 2022-07-13 15:28:54+00:00  \n",
       "998 2022-07-13 15:26:10+00:00  \n",
       "999 2022-07-13 15:25:31+00:00  \n",
       "\n",
       "[1000 rows x 3 columns]"
      ]
     },
     "execution_count": 9,
     "metadata": {},
     "output_type": "execute_result"
    }
   ],
   "source": [
    "df=pd.DataFrame({'tweets': tweets, 'likes':likes,'time':time})\n",
    "df"
   ]
  },
  {
   "cell_type": "markdown",
   "id": "0740f25e",
   "metadata": {},
   "source": [
    "### Cleaning tweets"
   ]
  },
  {
   "cell_type": "code",
   "execution_count": 10,
   "id": "64fa6d3d",
   "metadata": {
    "scrolled": true
   },
   "outputs": [
    {
     "data": {
      "text/html": [
       "<div>\n",
       "<style scoped>\n",
       "    .dataframe tbody tr th:only-of-type {\n",
       "        vertical-align: middle;\n",
       "    }\n",
       "\n",
       "    .dataframe tbody tr th {\n",
       "        vertical-align: top;\n",
       "    }\n",
       "\n",
       "    .dataframe thead th {\n",
       "        text-align: right;\n",
       "    }\n",
       "</style>\n",
       "<table border=\"1\" class=\"dataframe\">\n",
       "  <thead>\n",
       "    <tr style=\"text-align: right;\">\n",
       "      <th></th>\n",
       "      <th>tweets</th>\n",
       "      <th>likes</th>\n",
       "      <th>time</th>\n",
       "    </tr>\n",
       "  </thead>\n",
       "  <tbody>\n",
       "    <tr>\n",
       "      <th>0</th>\n",
       "      <td>NIFTY50 \\nFor nifty and banknifty daily level ...</td>\n",
       "      <td>0</td>\n",
       "      <td>2022-07-14 04:39:19+00:00</td>\n",
       "    </tr>\n",
       "    <tr>\n",
       "      <th>1</th>\n",
       "      <td>Tchinical Analisys Update 14Jul2022 08:56\\nSto...</td>\n",
       "      <td>0</td>\n",
       "      <td>2022-07-14 04:39:17+00:00</td>\n",
       "    </tr>\n",
       "    <tr>\n",
       "      <th>2</th>\n",
       "      <td>Tchinical Analisys Update 14Jul2022 08:56\\nSto...</td>\n",
       "      <td>0</td>\n",
       "      <td>2022-07-14 04:38:16+00:00</td>\n",
       "    </tr>\n",
       "    <tr>\n",
       "      <th>3</th>\n",
       "      <td>Tchinical Analisys Update 14Jul2022 08:56\\nSto...</td>\n",
       "      <td>0</td>\n",
       "      <td>2022-07-14 04:37:15+00:00</td>\n",
       "    </tr>\n",
       "    <tr>\n",
       "      <th>4</th>\n",
       "      <td>: Tchinical Analisys Update 14Jul2022 08:56\\nS...</td>\n",
       "      <td>0</td>\n",
       "      <td>2022-07-14 04:36:55+00:00</td>\n",
       "    </tr>\n",
       "    <tr>\n",
       "      <th>...</th>\n",
       "      <td>...</td>\n",
       "      <td>...</td>\n",
       "      <td>...</td>\n",
       "    </tr>\n",
       "    <tr>\n",
       "      <th>995</th>\n",
       "      <td>US01Y US02Y Yield inverted\\n\\nMakeBubbleGreatA...</td>\n",
       "      <td>0</td>\n",
       "      <td>2022-07-13 15:34:09+00:00</td>\n",
       "    </tr>\n",
       "    <tr>\n",
       "      <th>996</th>\n",
       "      <td>: MarketUpdate: 13th July 2022\\n\\nSource: NSE,...</td>\n",
       "      <td>0</td>\n",
       "      <td>2022-07-13 15:32:55+00:00</td>\n",
       "    </tr>\n",
       "    <tr>\n",
       "      <th>997</th>\n",
       "      <td>: _taneja13 Nasdaq green, US VIX flat....no pa...</td>\n",
       "      <td>0</td>\n",
       "      <td>2022-07-13 15:28:54+00:00</td>\n",
       "    </tr>\n",
       "    <tr>\n",
       "      <th>998</th>\n",
       "      <td>: Day8 Takeaways👇\\n1.Adequate capital is requi...</td>\n",
       "      <td>0</td>\n",
       "      <td>2022-07-13 15:26:10+00:00</td>\n",
       "    </tr>\n",
       "    <tr>\n",
       "      <th>999</th>\n",
       "      <td>Hourly Chart\\n\\n-Price has been forming LH LL ...</td>\n",
       "      <td>8</td>\n",
       "      <td>2022-07-13 15:25:31+00:00</td>\n",
       "    </tr>\n",
       "  </tbody>\n",
       "</table>\n",
       "<p>1000 rows × 3 columns</p>\n",
       "</div>"
      ],
      "text/plain": [
       "                                                tweets  likes  \\\n",
       "0    NIFTY50 \\nFor nifty and banknifty daily level ...      0   \n",
       "1    Tchinical Analisys Update 14Jul2022 08:56\\nSto...      0   \n",
       "2    Tchinical Analisys Update 14Jul2022 08:56\\nSto...      0   \n",
       "3    Tchinical Analisys Update 14Jul2022 08:56\\nSto...      0   \n",
       "4    : Tchinical Analisys Update 14Jul2022 08:56\\nS...      0   \n",
       "..                                                 ...    ...   \n",
       "995  US01Y US02Y Yield inverted\\n\\nMakeBubbleGreatA...      0   \n",
       "996  : MarketUpdate: 13th July 2022\\n\\nSource: NSE,...      0   \n",
       "997  : _taneja13 Nasdaq green, US VIX flat....no pa...      0   \n",
       "998  : Day8 Takeaways👇\\n1.Adequate capital is requi...      0   \n",
       "999  Hourly Chart\\n\\n-Price has been forming LH LL ...      8   \n",
       "\n",
       "                         time  \n",
       "0   2022-07-14 04:39:19+00:00  \n",
       "1   2022-07-14 04:39:17+00:00  \n",
       "2   2022-07-14 04:38:16+00:00  \n",
       "3   2022-07-14 04:37:15+00:00  \n",
       "4   2022-07-14 04:36:55+00:00  \n",
       "..                        ...  \n",
       "995 2022-07-13 15:34:09+00:00  \n",
       "996 2022-07-13 15:32:55+00:00  \n",
       "997 2022-07-13 15:28:54+00:00  \n",
       "998 2022-07-13 15:26:10+00:00  \n",
       "999 2022-07-13 15:25:31+00:00  \n",
       "\n",
       "[1000 rows x 3 columns]"
      ]
     },
     "execution_count": 10,
     "metadata": {},
     "output_type": "execute_result"
    }
   ],
   "source": [
    "def cleanTxt(text):\n",
    "    text = re.sub(r\"@[A-Za-z0-9]+\" , '', text)        #remove @mentions\n",
    "    text = re.sub(r'#', '', text)                     #removing \"#\" symbol\n",
    "    text = re.sub(r'RT[\\s]+', '', text)               # removing RT(retweets)\n",
    "    text = re.sub(r'https?:\\/\\/\\S+', '', text)        # remove the hyper link\n",
    "    return text\n",
    "df[\"tweets\"]=df[\"tweets\"].apply(cleanTxt)\n",
    "df"
   ]
  },
  {
   "cell_type": "code",
   "execution_count": 11,
   "id": "682e64c3",
   "metadata": {},
   "outputs": [
    {
     "data": {
      "image/png": "[encoded data removed]",
      "text/plain": [
       "<Figure size 432x288 with 1 Axes>"
      ]
     },
     "metadata": {
      "needs_background": "light"
     },
     "output_type": "display_data"
    }
   ],
   "source": [
    "#Plot The Word Cloud\n",
    "allWords = ' '.join([twts for twts in df['tweets']])\n",
    "wordCloud = WordCloud(width=800,height=500,random_state=21,max_font_size=119).generate(allWords)\n",
    "plt.imshow(wordCloud,interpolation=\"bilinear\")\n",
    "plt.axis('off')\n",
    "plt.show()"
   ]
  },
  {
   "cell_type": "markdown",
   "id": "14fc434d",
   "metadata": {},
   "source": [
    "### Creating a function to get subjectivity"
   ]
  },
  {
   "cell_type": "code",
   "execution_count": 12,
   "id": "c9ecfdbe",
   "metadata": {},
   "outputs": [],
   "source": [
    "def getSubjectivity(text):\n",
    "    return TextBlob(text).sentiment.subjectivity             "
   ]
  },
  {
   "cell_type": "markdown",
   "id": "e5afcb74",
   "metadata": {},
   "source": [
    "### Creating  a function to get the polarity"
   ]
  },
  {
   "cell_type": "code",
   "execution_count": 13,
   "id": "b431d6d4",
   "metadata": {},
   "outputs": [],
   "source": [
    "def getPolarity(text):\n",
    "    return TextBlob(text).sentiment.polarity"
   ]
  },
  {
   "cell_type": "markdown",
   "id": "e59ab74f",
   "metadata": {},
   "source": [
    "##### Creating two new columns for getting subjectivity and polarity"
   ]
  },
  {
   "cell_type": "code",
   "execution_count": 14,
   "id": "a3266918",
   "metadata": {
    "scrolled": true
   },
   "outputs": [
    {
     "data": {
      "text/html": [
       "<div>\n",
       "<style scoped>\n",
       "    .dataframe tbody tr th:only-of-type {\n",
       "        vertical-align: middle;\n",
       "    }\n",
       "\n",
       "    .dataframe tbody tr th {\n",
       "        vertical-align: top;\n",
       "    }\n",
       "\n",
       "    .dataframe thead th {\n",
       "        text-align: right;\n",
       "    }\n",
       "</style>\n",
       "<table border=\"1\" class=\"dataframe\">\n",
       "  <thead>\n",
       "    <tr style=\"text-align: right;\">\n",
       "      <th></th>\n",
       "      <th>tweets</th>\n",
       "      <th>likes</th>\n",
       "      <th>time</th>\n",
       "      <th>Subjectivity</th>\n",
       "      <th>Polarity</th>\n",
       "    </tr>\n",
       "  </thead>\n",
       "  <tbody>\n",
       "    <tr>\n",
       "      <th>0</th>\n",
       "      <td>NIFTY50 \\nFor nifty and banknifty daily level ...</td>\n",
       "      <td>0</td>\n",
       "      <td>2022-07-14 04:39:19+00:00</td>\n",
       "      <td>0.250000</td>\n",
       "      <td>0.068182</td>\n",
       "    </tr>\n",
       "    <tr>\n",
       "      <th>1</th>\n",
       "      <td>Tchinical Analisys Update 14Jul2022 08:56\\nSto...</td>\n",
       "      <td>0</td>\n",
       "      <td>2022-07-14 04:39:17+00:00</td>\n",
       "      <td>0.344697</td>\n",
       "      <td>0.165152</td>\n",
       "    </tr>\n",
       "    <tr>\n",
       "      <th>2</th>\n",
       "      <td>Tchinical Analisys Update 14Jul2022 08:56\\nSto...</td>\n",
       "      <td>0</td>\n",
       "      <td>2022-07-14 04:38:16+00:00</td>\n",
       "      <td>0.344697</td>\n",
       "      <td>0.165152</td>\n",
       "    </tr>\n",
       "    <tr>\n",
       "      <th>3</th>\n",
       "      <td>Tchinical Analisys Update 14Jul2022 08:56\\nSto...</td>\n",
       "      <td>0</td>\n",
       "      <td>2022-07-14 04:37:15+00:00</td>\n",
       "      <td>0.344697</td>\n",
       "      <td>0.165152</td>\n",
       "    </tr>\n",
       "    <tr>\n",
       "      <th>4</th>\n",
       "      <td>: Tchinical Analisys Update 14Jul2022 08:56\\nS...</td>\n",
       "      <td>0</td>\n",
       "      <td>2022-07-14 04:36:55+00:00</td>\n",
       "      <td>0.639394</td>\n",
       "      <td>0.330303</td>\n",
       "    </tr>\n",
       "    <tr>\n",
       "      <th>...</th>\n",
       "      <td>...</td>\n",
       "      <td>...</td>\n",
       "      <td>...</td>\n",
       "      <td>...</td>\n",
       "      <td>...</td>\n",
       "    </tr>\n",
       "    <tr>\n",
       "      <th>995</th>\n",
       "      <td>US01Y US02Y Yield inverted\\n\\nMakeBubbleGreatA...</td>\n",
       "      <td>0</td>\n",
       "      <td>2022-07-13 15:34:09+00:00</td>\n",
       "      <td>0.000000</td>\n",
       "      <td>0.000000</td>\n",
       "    </tr>\n",
       "    <tr>\n",
       "      <th>996</th>\n",
       "      <td>: MarketUpdate: 13th July 2022\\n\\nSource: NSE,...</td>\n",
       "      <td>0</td>\n",
       "      <td>2022-07-13 15:32:55+00:00</td>\n",
       "      <td>0.000000</td>\n",
       "      <td>0.000000</td>\n",
       "    </tr>\n",
       "    <tr>\n",
       "      <th>997</th>\n",
       "      <td>: _taneja13 Nasdaq green, US VIX flat....no pa...</td>\n",
       "      <td>0</td>\n",
       "      <td>2022-07-13 15:28:54+00:00</td>\n",
       "      <td>0.300000</td>\n",
       "      <td>-0.200000</td>\n",
       "    </tr>\n",
       "    <tr>\n",
       "      <th>998</th>\n",
       "      <td>: Day8 Takeaways👇\\n1.Adequate capital is requi...</td>\n",
       "      <td>0</td>\n",
       "      <td>2022-07-13 15:26:10+00:00</td>\n",
       "      <td>0.000000</td>\n",
       "      <td>0.000000</td>\n",
       "    </tr>\n",
       "    <tr>\n",
       "      <th>999</th>\n",
       "      <td>Hourly Chart\\n\\n-Price has been forming LH LL ...</td>\n",
       "      <td>8</td>\n",
       "      <td>2022-07-13 15:25:31+00:00</td>\n",
       "      <td>0.162424</td>\n",
       "      <td>0.012121</td>\n",
       "    </tr>\n",
       "  </tbody>\n",
       "</table>\n",
       "<p>1000 rows × 5 columns</p>\n",
       "</div>"
      ],
      "text/plain": [
       "                                                tweets  likes  \\\n",
       "0    NIFTY50 \\nFor nifty and banknifty daily level ...      0   \n",
       "1    Tchinical Analisys Update 14Jul2022 08:56\\nSto...      0   \n",
       "2    Tchinical Analisys Update 14Jul2022 08:56\\nSto...      0   \n",
       "3    Tchinical Analisys Update 14Jul2022 08:56\\nSto...      0   \n",
       "4    : Tchinical Analisys Update 14Jul2022 08:56\\nS...      0   \n",
       "..                                                 ...    ...   \n",
       "995  US01Y US02Y Yield inverted\\n\\nMakeBubbleGreatA...      0   \n",
       "996  : MarketUpdate: 13th July 2022\\n\\nSource: NSE,...      0   \n",
       "997  : _taneja13 Nasdaq green, US VIX flat....no pa...      0   \n",
       "998  : Day8 Takeaways👇\\n1.Adequate capital is requi...      0   \n",
       "999  Hourly Chart\\n\\n-Price has been forming LH LL ...      8   \n",
       "\n",
       "                         time  Subjectivity  Polarity  \n",
       "0   2022-07-14 04:39:19+00:00      0.250000  0.068182  \n",
       "1   2022-07-14 04:39:17+00:00      0.344697  0.165152  \n",
       "2   2022-07-14 04:38:16+00:00      0.344697  0.165152  \n",
       "3   2022-07-14 04:37:15+00:00      0.344697  0.165152  \n",
       "4   2022-07-14 04:36:55+00:00      0.639394  0.330303  \n",
       "..                        ...           ...       ...  \n",
       "995 2022-07-13 15:34:09+00:00      0.000000  0.000000  \n",
       "996 2022-07-13 15:32:55+00:00      0.000000  0.000000  \n",
       "997 2022-07-13 15:28:54+00:00      0.300000 -0.200000  \n",
       "998 2022-07-13 15:26:10+00:00      0.000000  0.000000  \n",
       "999 2022-07-13 15:25:31+00:00      0.162424  0.012121  \n",
       "\n",
       "[1000 rows x 5 columns]"
      ]
     },
     "execution_count": 14,
     "metadata": {},
     "output_type": "execute_result"
    }
   ],
   "source": [
    "df['Subjectivity'] = df['tweets'].apply(getSubjectivity)\n",
    "df['Polarity'] = df['tweets'].apply(getPolarity)\n",
    "df"
   ]
  },
  {
   "cell_type": "markdown",
   "id": "2401dc69",
   "metadata": {},
   "source": [
    "### Creating  a function to compute the positive , negative and neutral analysis"
   ]
  },
  {
   "cell_type": "code",
   "execution_count": 15,
   "id": "c65988ad",
   "metadata": {
    "scrolled": true
   },
   "outputs": [
    {
     "data": {
      "text/html": [
       "<div>\n",
       "<style scoped>\n",
       "    .dataframe tbody tr th:only-of-type {\n",
       "        vertical-align: middle;\n",
       "    }\n",
       "\n",
       "    .dataframe tbody tr th {\n",
       "        vertical-align: top;\n",
       "    }\n",
       "\n",
       "    .dataframe thead th {\n",
       "        text-align: right;\n",
       "    }\n",
       "</style>\n",
       "<table border=\"1\" class=\"dataframe\">\n",
       "  <thead>\n",
       "    <tr style=\"text-align: right;\">\n",
       "      <th></th>\n",
       "      <th>tweets</th>\n",
       "      <th>likes</th>\n",
       "      <th>time</th>\n",
       "      <th>Subjectivity</th>\n",
       "      <th>Polarity</th>\n",
       "      <th>Analysis</th>\n",
       "    </tr>\n",
       "  </thead>\n",
       "  <tbody>\n",
       "    <tr>\n",
       "      <th>0</th>\n",
       "      <td>NIFTY50 \\nFor nifty and banknifty daily level ...</td>\n",
       "      <td>0</td>\n",
       "      <td>2022-07-14 04:39:19+00:00</td>\n",
       "      <td>0.250000</td>\n",
       "      <td>0.068182</td>\n",
       "      <td>Positive</td>\n",
       "    </tr>\n",
       "    <tr>\n",
       "      <th>1</th>\n",
       "      <td>Tchinical Analisys Update 14Jul2022 08:56\\nSto...</td>\n",
       "      <td>0</td>\n",
       "      <td>2022-07-14 04:39:17+00:00</td>\n",
       "      <td>0.344697</td>\n",
       "      <td>0.165152</td>\n",
       "      <td>Positive</td>\n",
       "    </tr>\n",
       "    <tr>\n",
       "      <th>2</th>\n",
       "      <td>Tchinical Analisys Update 14Jul2022 08:56\\nSto...</td>\n",
       "      <td>0</td>\n",
       "      <td>2022-07-14 04:38:16+00:00</td>\n",
       "      <td>0.344697</td>\n",
       "      <td>0.165152</td>\n",
       "      <td>Positive</td>\n",
       "    </tr>\n",
       "    <tr>\n",
       "      <th>3</th>\n",
       "      <td>Tchinical Analisys Update 14Jul2022 08:56\\nSto...</td>\n",
       "      <td>0</td>\n",
       "      <td>2022-07-14 04:37:15+00:00</td>\n",
       "      <td>0.344697</td>\n",
       "      <td>0.165152</td>\n",
       "      <td>Positive</td>\n",
       "    </tr>\n",
       "    <tr>\n",
       "      <th>4</th>\n",
       "      <td>: Tchinical Analisys Update 14Jul2022 08:56\\nS...</td>\n",
       "      <td>0</td>\n",
       "      <td>2022-07-14 04:36:55+00:00</td>\n",
       "      <td>0.639394</td>\n",
       "      <td>0.330303</td>\n",
       "      <td>Positive</td>\n",
       "    </tr>\n",
       "    <tr>\n",
       "      <th>...</th>\n",
       "      <td>...</td>\n",
       "      <td>...</td>\n",
       "      <td>...</td>\n",
       "      <td>...</td>\n",
       "      <td>...</td>\n",
       "      <td>...</td>\n",
       "    </tr>\n",
       "    <tr>\n",
       "      <th>995</th>\n",
       "      <td>US01Y US02Y Yield inverted\\n\\nMakeBubbleGreatA...</td>\n",
       "      <td>0</td>\n",
       "      <td>2022-07-13 15:34:09+00:00</td>\n",
       "      <td>0.000000</td>\n",
       "      <td>0.000000</td>\n",
       "      <td>Neutral</td>\n",
       "    </tr>\n",
       "    <tr>\n",
       "      <th>996</th>\n",
       "      <td>: MarketUpdate: 13th July 2022\\n\\nSource: NSE,...</td>\n",
       "      <td>0</td>\n",
       "      <td>2022-07-13 15:32:55+00:00</td>\n",
       "      <td>0.000000</td>\n",
       "      <td>0.000000</td>\n",
       "      <td>Neutral</td>\n",
       "    </tr>\n",
       "    <tr>\n",
       "      <th>997</th>\n",
       "      <td>: _taneja13 Nasdaq green, US VIX flat....no pa...</td>\n",
       "      <td>0</td>\n",
       "      <td>2022-07-13 15:28:54+00:00</td>\n",
       "      <td>0.300000</td>\n",
       "      <td>-0.200000</td>\n",
       "      <td>Negative</td>\n",
       "    </tr>\n",
       "    <tr>\n",
       "      <th>998</th>\n",
       "      <td>: Day8 Takeaways👇\\n1.Adequate capital is requi...</td>\n",
       "      <td>0</td>\n",
       "      <td>2022-07-13 15:26:10+00:00</td>\n",
       "      <td>0.000000</td>\n",
       "      <td>0.000000</td>\n",
       "      <td>Neutral</td>\n",
       "    </tr>\n",
       "    <tr>\n",
       "      <th>999</th>\n",
       "      <td>Hourly Chart\\n\\n-Price has been forming LH LL ...</td>\n",
       "      <td>8</td>\n",
       "      <td>2022-07-13 15:25:31+00:00</td>\n",
       "      <td>0.162424</td>\n",
       "      <td>0.012121</td>\n",
       "      <td>Positive</td>\n",
       "    </tr>\n",
       "  </tbody>\n",
       "</table>\n",
       "<p>1000 rows × 6 columns</p>\n",
       "</div>"
      ],
      "text/plain": [
       "                                                tweets  likes  \\\n",
       "0    NIFTY50 \\nFor nifty and banknifty daily level ...      0   \n",
       "1    Tchinical Analisys Update 14Jul2022 08:56\\nSto...      0   \n",
       "2    Tchinical Analisys Update 14Jul2022 08:56\\nSto...      0   \n",
       "3    Tchinical Analisys Update 14Jul2022 08:56\\nSto...      0   \n",
       "4    : Tchinical Analisys Update 14Jul2022 08:56\\nS...      0   \n",
       "..                                                 ...    ...   \n",
       "995  US01Y US02Y Yield inverted\\n\\nMakeBubbleGreatA...      0   \n",
       "996  : MarketUpdate: 13th July 2022\\n\\nSource: NSE,...      0   \n",
       "997  : _taneja13 Nasdaq green, US VIX flat....no pa...      0   \n",
       "998  : Day8 Takeaways👇\\n1.Adequate capital is requi...      0   \n",
       "999  Hourly Chart\\n\\n-Price has been forming LH LL ...      8   \n",
       "\n",
       "                         time  Subjectivity  Polarity  Analysis  \n",
       "0   2022-07-14 04:39:19+00:00      0.250000  0.068182  Positive  \n",
       "1   2022-07-14 04:39:17+00:00      0.344697  0.165152  Positive  \n",
       "2   2022-07-14 04:38:16+00:00      0.344697  0.165152  Positive  \n",
       "3   2022-07-14 04:37:15+00:00      0.344697  0.165152  Positive  \n",
       "4   2022-07-14 04:36:55+00:00      0.639394  0.330303  Positive  \n",
       "..                        ...           ...       ...       ...  \n",
       "995 2022-07-13 15:34:09+00:00      0.000000  0.000000   Neutral  \n",
       "996 2022-07-13 15:32:55+00:00      0.000000  0.000000   Neutral  \n",
       "997 2022-07-13 15:28:54+00:00      0.300000 -0.200000  Negative  \n",
       "998 2022-07-13 15:26:10+00:00      0.000000  0.000000   Neutral  \n",
       "999 2022-07-13 15:25:31+00:00      0.162424  0.012121  Positive  \n",
       "\n",
       "[1000 rows x 6 columns]"
      ]
     },
     "execution_count": 15,
     "metadata": {},
     "output_type": "execute_result"
    }
   ],
   "source": [
    "def getAnalysis(score):\n",
    "    if score>0:\n",
    "        return 'Positive'\n",
    "    elif score == 0 :\n",
    "        return 'Neutral'\n",
    "    else:\n",
    "        return 'Negative'\n",
    "df['Analysis']= df['Polarity'].apply(getAnalysis)\n",
    "df"
   ]
  },
  {
   "cell_type": "markdown",
   "id": "13566f57",
   "metadata": {},
   "source": [
    "### Ploting the polarity and subjectivity"
   ]
  },
  {
   "cell_type": "code",
   "execution_count": 17,
   "id": "ce6bd89e",
   "metadata": {
    "scrolled": false
   },
   "outputs": [
    {
     "data": {
      "image/png": "[encoded data removed]",
      "text/plain": [
       "<Figure size 576x432 with 1 Axes>"
      ]
     },
     "metadata": {
      "needs_background": "light"
     },
     "output_type": "display_data"
    }
   ],
   "source": [
    "plt.figure(figsize=(8,6))\n",
    "for i in range (0,df.shape[0]):\n",
    "    plt.scatter(df['Polarity'][i],df['Subjectivity'][i], color = 'Green')\n",
    "plt.title('Sentiment Analysis')\n",
    "plt.xlabel('Polarity')\n",
    "plt.ylabel('Subjectivity')\n",
    "plt.grid()\n",
    "plt.show()"
   ]
  },
  {
   "cell_type": "markdown",
   "id": "523edd99",
   "metadata": {},
   "source": [
    "### Showing the value count"
   ]
  },
  {
   "cell_type": "code",
   "execution_count": 18,
   "id": "e4f3294d",
   "metadata": {},
   "outputs": [
    {
     "data": {
      "text/plain": [
       "Positive    489\n",
       "Neutral     376\n",
       "Negative    135\n",
       "Name: Analysis, dtype: int64"
      ]
     },
     "execution_count": 18,
     "metadata": {},
     "output_type": "execute_result"
    }
   ],
   "source": [
    "df['Analysis'].value_counts()"
   ]
  },
  {
   "cell_type": "markdown",
   "id": "726a419c",
   "metadata": {},
   "source": [
    "### Ploting and Visualizing the value count"
   ]
  },
  {
   "cell_type": "code",
   "execution_count": 19,
   "id": "36a44901",
   "metadata": {},
   "outputs": [
    {
     "data": {
      "image/png": "[encoded data removed]",
      "text/plain": [
       "<Figure size 432x288 with 1 Axes>"
      ]
     },
     "metadata": {},
     "output_type": "display_data"
    }
   ],
   "source": [
    "plt.title('Sentiment Analysis')\n",
    "df['Analysis'].value_counts().plot(kind='pie',autopct='%1.1f%%')\n",
    "plt.show()"
   ]
  }
 ],
 "metadata": {
  "kernelspec": {
   "display_name": "Python 3 (ipykernel)",
   "language": "python",
   "name": "python3"
  },
  "language_info": {
   "codemirror_mode": {
    "name": "ipython",
    "version": 3
   },
   "file_extension": ".py",
   "mimetype": "text/x-python",
   "name": "python",
   "nbconvert_exporter": "python",
   "pygments_lexer": "ipython3",
   "version": "3.9.12"
  }
 },
 "nbformat": 4,
 "nbformat_minor": 5
}
